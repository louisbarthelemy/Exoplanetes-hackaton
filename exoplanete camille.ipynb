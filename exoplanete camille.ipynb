{
 "cells": [
  {
   "cell_type": "code",
   "execution_count": null,
   "id": "d5abe0b7-d942-467f-bbb1-89a7eeca2104",
   "metadata": {},
   "outputs": [],
   "source": [
    "import numpy as np\n",
    "import pandas as pd\n",
    "import matplotlib.pyplot as plt"
   ]
  },
  {
   "cell_type": "code",
   "execution_count": null,
   "id": "4ff75906-ec9a-4282-9346-c0cae3e59fd1",
   "metadata": {},
   "outputs": [],
   "source": [
    "df= pd.read_csv('exo.csv', header= 96)\n",
    "df"
   ]
  },
  {
   "cell_type": "code",
   "execution_count": null,
   "id": "54ccaed3-8e82-44fd-8f21-c7aecf3e3561",
   "metadata": {},
   "outputs": [],
   "source": [
    "df['discoverymethod'].value_counts()\n"
   ]
  },
  {
   "cell_type": "code",
   "execution_count": null,
   "id": "1317aaee-fb19-4954-b033-8798f5d8d699",
   "metadata": {},
   "outputs": [],
   "source": [
    "annee = df['disc_year'].value_counts()\n",
    "annee"
   ]
  },
  {
   "cell_type": "code",
   "execution_count": null,
   "id": "2e5b6c12-003d-4187-86be-19b2576fab3c",
   "metadata": {},
   "outputs": [],
   "source": [
    "df.columns\n",
    "#index des colonnes"
   ]
  },
  {
   "cell_type": "code",
   "execution_count": null,
   "id": "a69faf29-2f71-4618-adc7-366b4adf548b",
   "metadata": {},
   "outputs": [],
   "source": [
    "df.isna().sum(axis=0)\n",
    "#nombre de valeurs manquantes par colonnes"
   ]
  },
  {
   "cell_type": "code",
   "execution_count": null,
   "id": "8b29361b-de30-4e17-893c-ab60256d5677",
   "metadata": {},
   "outputs": [],
   "source": [
    "df.dropna()\n",
    "#planètes dont on a toutes les informations"
   ]
  },
  {
   "cell_type": "code",
   "execution_count": null,
   "id": "8f76974c-e9fa-499d-a780-b599fe8ba29c",
   "metadata": {},
   "outputs": [],
   "source": [
    "df['disc_facility'].value_counts()"
   ]
  },
  {
   "cell_type": "code",
   "execution_count": null,
   "id": "451efe74-b983-4d64-b670-19cb40a24a18",
   "metadata": {},
   "outputs": [],
   "source": [
    "df.groupby(by='disc_facility').size().plot.bar()"
   ]
  },
  {
   "cell_type": "code",
   "execution_count": null,
   "id": "5069aacd-a0fc-4ec4-9061-bc1eb8b70cd8",
   "metadata": {},
   "outputs": [],
   "source": [
    "df.groupby(by='pl_orbper').size().plot.bar()\n"
   ]
  },
  {
   "cell_type": "code",
   "execution_count": null,
   "id": "1595261f-14b6-498a-bfdc-d137e839d6bf",
   "metadata": {},
   "outputs": [],
   "source": []
  }
 ],
 "metadata": {
  "kernelspec": {
   "display_name": "Python 3 (ipykernel)",
   "language": "python",
   "name": "python3"
  },
  "language_info": {
   "codemirror_mode": {
    "name": "ipython",
    "version": 3
   },
   "file_extension": ".py",
   "mimetype": "text/x-python",
   "name": "python",
   "nbconvert_exporter": "python",
   "pygments_lexer": "ipython3",
   "version": "3.11.4"
  }
 },
 "nbformat": 4,
 "nbformat_minor": 5
}
